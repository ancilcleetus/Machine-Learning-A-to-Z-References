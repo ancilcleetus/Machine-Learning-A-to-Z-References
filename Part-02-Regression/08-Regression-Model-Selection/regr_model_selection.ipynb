{
  "nbformat": 4,
  "nbformat_minor": 0,
  "metadata": {
    "colab": {
      "name": "regr_model_selection.ipynb",
      "provenance": [],
      "toc_visible": true
    },
    "kernelspec": {
      "name": "python3",
      "display_name": "Python 3"
    }
  },
  "cells": [
    {
      "cell_type": "markdown",
      "metadata": {
        "id": "LeamvpPVXuS_"
      },
      "source": [
        "# Regression Toolkit"
      ]
    },
    {
      "cell_type": "markdown",
      "metadata": {
        "id": "Bl6BzO1e7tBX"
      },
      "source": [
        "After going through the intuition behind Performance Evaluation of Regression Models, our focus is now on Model Selection. How do we know which regression model to choose for a particular problem/dataset?\r\n",
        "\r\n",
        "We are going to work on a generic real-world dataset with 9000+ samples and multiple features. We will be first doing the Performance Evaluation of each Regression Model we have already discussed. We then select one Regression Model most suited to our dataset.\r\n"
      ]
    },
    {
      "cell_type": "markdown",
      "metadata": {
        "id": "roWD719y1cSp"
      },
      "source": [
        "## Combined Cycle Power Plant Dataset"
      ]
    },
    {
      "cell_type": "markdown",
      "metadata": {
        "id": "iI7OCBzl1l51"
      },
      "source": [
        "This is an open dataset from the Machine Learning Repository of Center for Machine Learning and Intelligent Systems at the University of California, Irvine [(Dataset Link)](https://archive.ics.uci.edu/ml/datasets/combined+cycle+power+plant). The dataset contains 9568 data points that have been collected from a Combined Cycle Power Plant over 6 years (2006-2011). During this period, the power plant was set to work with a full load. Features consist of hourly average ambient variables Ambient Temperature (AT), Ambient Pressure (AP), Relative Humidity (RH), and Exhaust Vacuum (V) to predict the net hourly electrical energy output (PE) of the plant.\r\n",
        "\r\n",
        "Features consist of hourly average ambient variables\r\n",
        "- Ambient Temperature (AT) in the range 1.81°C to 37.11°C\r\n",
        "- Exhaust Vacuum (V) in the range 25.36-81.56 cm Hg\r\n",
        "- Ambient Pressure (AP) in the range 992.89-1033.30 millibar\r\n",
        "- Relative Humidity (RH) in the range 25.56% to 100.16%\r\n",
        "- Net hourly electrical energy output (PE) 420.26-495.76 MW\r\n",
        "\r\n",
        "The averages are taken from various sensors located around the plant that record the ambient variables every second. The variables are given without normalization.\r\n",
        "\r\n",
        "Given the attributes, our objective is to predict Net hourly electrical energy output (PE)."
      ]
    },
    {
      "cell_type": "markdown",
      "metadata": {
        "id": "slQTaxtCvre9"
      },
      "source": [
        "**Important Note:** This dataset contains no missing data and no categorical data. Hence, those steps for Data Preprocessing (Taking care of missing data and Encoding categorical data) are not required before starting Training of the Model."
      ]
    }
  ]
}