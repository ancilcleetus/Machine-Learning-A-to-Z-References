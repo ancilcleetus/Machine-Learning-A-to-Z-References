{
  "nbformat": 4,
  "nbformat_minor": 0,
  "metadata": {
    "colab": {
      "name": "polynomial_linear_regression.ipynb",
      "provenance": [],
      "collapsed_sections": [],
      "toc_visible": true
    },
    "kernelspec": {
      "name": "python3",
      "display_name": "Python 3"
    }
  },
  "cells": [
    {
      "cell_type": "markdown",
      "metadata": {
        "id": "vN99YjPTDena"
      },
      "source": [
        "# Polynomial Regression"
      ]
    },
    {
      "cell_type": "markdown",
      "metadata": {
        "id": "S57a5lhfiL_r"
      },
      "source": [
        "## Assumptions of Linear Regression"
      ]
    },
    {
      "cell_type": "markdown",
      "metadata": {
        "id": "YZz_Nb9MiYUA"
      },
      "source": [
        "![Assumptions of Linear Regression](Polynomial-Linear-Regression-Intuition-00.PNG)\r\n",
        "\r\n",
        "We have to check whether these assumptions hold for our dataset before going with a Linear Regression Model. But checking these for a big dataset is time consuming. Instead, you can choose to go with a Linear Regression Model and if it gives lower accuracy than other models, then we can safely conclude that Linear Regression Models cannnot be used for this particular dataset. As experimenting with different Machine Learning Models doesn't take much time, thanks to the open-source libraries, this is preferred instead of going behind the assumptions early on."
      ]
    },
    {
      "cell_type": "markdown",
      "metadata": {
        "id": "Dm7b8JSF7Adq"
      },
      "source": [
        "## Intuition behind Polynomial Linear Regression"
      ]
    },
    {
      "cell_type": "markdown",
      "metadata": {
        "id": "FUYA2jgQ3Ri3"
      },
      "source": [
        "Polynomial Linear Regression involves finding the best fitting polynomial that correlates features with the target variable.\r\n",
        "![Polynomial Linear Regression Equation](Polynomial-Linear-Regression-Intuition-01.PNG)\r\n",
        "\r\n",
        "If the feature has a non-linear relationship with the Target Variable, then Simple Linear Regression Model cannot fit the data properly.\r\n",
        "![Simple Linear Regression Model fails](Polynomial-Linear-Regression-Intuition-02.PNG)\r\n",
        "\r\n",
        "In that case, we can use Polynomial Regression Model as below:\r\n",
        "![Polynomial Linear Regression Model](Polynomial-Linear-Regression-Intuition-03.PNG)"
      ]
    },
    {
      "cell_type": "markdown",
      "metadata": {
        "id": "F-bGVqFS4kSy"
      },
      "source": [
        "**Important Note:** Even though we have a non-linear relationship between feature and target variable, it is still called Linear Regression. This is because if the target variable can be represented as a linear combination of features using different coefficients, such models fall under Linear Regression. Hence Linear Regression doesn't correspond to linearity between Target Variable and individual features, but whether Target Variable can be represented as a linear combination of Features."
      ]
    },
    {
      "cell_type": "markdown",
      "metadata": {
        "id": "ZIx_naXnDyHd"
      },
      "source": [
        "## Importing the libraries"
      ]
    },
    {
      "cell_type": "code",
      "metadata": {
        "id": "FjnmdyPLD2tS"
      },
      "source": [
        "import numpy as np\n",
        "import matplotlib.pyplot as plt\n",
        "import pandas as pd"
      ],
      "execution_count": null,
      "outputs": []
    },
    {
      "cell_type": "markdown",
      "metadata": {
        "id": "6c8YExmOD5x5"
      },
      "source": [
        "## Importing the dataset"
      ]
    },
    {
      "cell_type": "code",
      "metadata": {
        "id": "nQOdXhjXD_AE"
      },
      "source": [
        "dataset = pd.read_csv('Position_Salaries.csv')\n",
        "X = dataset.iloc[:, 1:-1].values\n",
        "y = dataset.iloc[:, -1].values"
      ],
      "execution_count": null,
      "outputs": []
    },
    {
      "cell_type": "markdown",
      "metadata": {
        "id": "VadrvE7s_lS9"
      },
      "source": [
        "## Encoding categorical data"
      ]
    },
    {
      "cell_type": "markdown",
      "metadata": {
        "id": "HuwnPMCU7fHk"
      },
      "source": [
        "In the dataset, you can see that 'Position' column is effectively encoded in 'Level' column. Hence, 'Position' column is redundant and is not included in the Feature Matrix X."
      ]
    },
    {
      "cell_type": "markdown",
      "metadata": {
        "id": "WemVnqgeA70k"
      },
      "source": [
        "## Splitting the dataset into the Training set and Test set"
      ]
    },
    {
      "cell_type": "markdown",
      "metadata": {
        "id": "DKEbUju49M__"
      },
      "source": [
        "Here, we want to predict the salary for Employee Level (which is a continuous real value that varies from 1 to 10). Hence we want the data for all levels from 1 to 10 for accurate prediction. Hence, in this scenario, we are not splitting the dataset."
      ]
    },
    {
      "cell_type": "markdown",
      "metadata": {
        "id": "Le8SEL-YEOLb"
      },
      "source": [
        "## Training the Linear Regression model on the whole dataset"
      ]
    },
    {
      "cell_type": "code",
      "metadata": {
        "colab": {
          "base_uri": "https://localhost:8080/"
        },
        "id": "yh0M32XDAEyp",
        "outputId": "3338c44e-4f53-43f2-b021-c8794fef1557"
      },
      "source": [
        "from sklearn.linear_model import LinearRegression\r\n",
        "linear_regressor = LinearRegression()\r\n",
        "linear_regressor.fit(X, y)"
      ],
      "execution_count": null,
      "outputs": [
        {
          "output_type": "execute_result",
          "data": {
            "text/plain": [
              "LinearRegression(copy_X=True, fit_intercept=True, n_jobs=None, normalize=False)"
            ]
          },
          "metadata": {
            "tags": []
          },
          "execution_count": 3
        }
      ]
    },
    {
      "cell_type": "markdown",
      "metadata": {
        "id": "Rb5nWuSHEfBV"
      },
      "source": [
        "## Training the Polynomial Regression model on the whole dataset"
      ]
    },
    {
      "cell_type": "markdown",
      "metadata": {
        "id": "MIEEhadDBvyh"
      },
      "source": [
        "Before training the Polynomial Regression model, it should be supplied with a matrix of features. Here, we have only one Feature ('Level' of the Employee) and we need to create a matrix of features derived from 'Level' i.e. features corresponding to $X_1, X_1^2, X_1^3, ..., X_1^n$. Then, we train this new matrix of features with *LinearRegression Class* itself to yield our Polynomial Linear Regression Model."
      ]
    },
    {
      "cell_type": "code",
      "metadata": {
        "id": "EJHo2ttPDQve",
        "colab": {
          "base_uri": "https://localhost:8080/"
        },
        "outputId": "48718c57-f3d5-49c1-f3b4-dd29e6a450c2"
      },
      "source": [
        "from sklearn.preprocessing import PolynomialFeatures\r\n",
        "poly_features = PolynomialFeatures(degree=2)\r\n",
        "X_poly = poly_features.fit_transform(X)\r\n",
        "poly_regressor = LinearRegression()\r\n",
        "poly_regressor.fit(X_poly, y)"
      ],
      "execution_count": 4,
      "outputs": [
        {
          "output_type": "execute_result",
          "data": {
            "text/plain": [
              "LinearRegression(copy_X=True, fit_intercept=True, n_jobs=None, normalize=False)"
            ]
          },
          "metadata": {
            "tags": []
          },
          "execution_count": 4
        }
      ]
    },
    {
      "cell_type": "markdown",
      "metadata": {
        "id": "0O8R0tzbEpvy"
      },
      "source": [
        "## Visualising the Linear Regression results"
      ]
    },
    {
      "cell_type": "code",
      "metadata": {
        "colab": {
          "base_uri": "https://localhost:8080/",
          "height": 295
        },
        "id": "m6eNLmg7OnW3",
        "outputId": "e4b3477c-ac97-45db-ff83-2e47b823adb7"
      },
      "source": [
        "plt.scatter(X, y, color='red')\r\n",
        "plt.plot(X, linear_regressor.predict(X), color='blue')\r\n",
        "plt.title('Truth or Bluff (Linear Regression)')\r\n",
        "plt.xlabel('Position Level')\r\n",
        "plt.ylabel('Salary')\r\n",
        "plt.show()"
      ],
      "execution_count": 5,
      "outputs": [
        {
          "output_type": "display_data",
          "data": {
            "image/png": "[encoded data removed]",
            "text/plain": [
              "<Figure size 432x288 with 1 Axes>"
            ]
          },
          "metadata": {
            "tags": [],
            "needs_background": "light"
          }
        }
      ]
    },
    {
      "cell_type": "markdown",
      "metadata": {
        "id": "stOnSo74E52m"
      },
      "source": [
        "## Visualising the Polynomial Regression results"
      ]
    },
    {
      "cell_type": "markdown",
      "metadata": {
        "id": "U_qsAMKnE-PJ"
      },
      "source": [
        "## Visualising the Polynomial Regression results (for higher resolution and smoother curve)"
      ]
    },
    {
      "cell_type": "markdown",
      "metadata": {
        "id": "diyJFZHhFFeK"
      },
      "source": [
        "## Predicting a new result with Linear Regression"
      ]
    },
    {
      "cell_type": "markdown",
      "metadata": {
        "id": "DW7I7ZVDFNkk"
      },
      "source": [
        "## Predicting a new result with Polynomial Regression"
      ]
    }
  ]
}