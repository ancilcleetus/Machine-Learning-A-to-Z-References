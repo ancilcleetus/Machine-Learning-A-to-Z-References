{
  "nbformat": 4,
  "nbformat_minor": 0,
  "metadata": {
    "colab": {
      "name": "simple_linear_regression.ipynb",
      "provenance": [],
      "toc_visible": true
    },
    "kernelspec": {
      "name": "python3",
      "display_name": "Python 3"
    }
  },
  "cells": [
    {
      "cell_type": "markdown",
      "metadata": {
        "id": "l_LulNCC8z96"
      },
      "source": [
        "# Simple Linear Regression"
      ]
    },
    {
      "cell_type": "markdown",
      "metadata": {
        "id": "Dm7b8JSF7Adq"
      },
      "source": [
        "## Intuition behind Simple Linear Regression"
      ]
    },
    {
      "cell_type": "markdown",
      "metadata": {
        "id": "FUYA2jgQ3Ri3"
      },
      "source": [
        "Simple Linear Regression involves finding the best fitting line that correlates a single feature with the target variable.\r\n",
        "![Simple Linear Regression Equation](Simple-Linear-Regression-Intuition-01.PNG)"
      ]
    },
    {
      "cell_type": "markdown",
      "metadata": {
        "id": "NU7ZZS1r4gsN"
      },
      "source": [
        "Lets say we have a dataset containing salary data of employees of different levels of experience. Here,\r\n",
        "\r\n",
        "\r\n",
        "*   Independent Variable/Feature = Experience\r\n",
        "*   Dependent/Target Variable = Salary\r\n",
        "\r\n",
        "We want to build a model that can predict the salary given experience of an employee. Since we have only one feature (Experience) and the Salary is a continuous variable, this is a Simple Linear Regression problem.\r\n",
        "\r\n",
        "How this scenario fits into Simple Linear Regression can be visualized as below:\r\n",
        "![Simple Linear Regression for Salary Prediction: Problem](Simple-Linear-Regression-Intuition-02.PNG)"
      ]
    },
    {
      "cell_type": "markdown",
      "metadata": {
        "id": "LwLJ9_sI6CpF"
      },
      "source": [
        "For finding the line that best fits with the training data, the sum of squares of deviation of observed data from predicted data is calculated for each line. The line with the least sum of squares is chosen as the best fit line.\r\n",
        "\r\n",
        "![Simple Linear Regression for Salary Prediction: Solution](Simple-Linear-Regression-Intuition-03.PNG)"
      ]
    },
    {
      "cell_type": "markdown",
      "metadata": {
        "id": "xpXdowrE9DxW"
      },
      "source": [
        "## Importing the libraries"
      ]
    },
    {
      "cell_type": "markdown",
      "metadata": {
        "id": "6JhpWJi59J1p"
      },
      "source": [
        "## Importing the dataset"
      ]
    },
    {
      "cell_type": "markdown",
      "metadata": {
        "id": "AyhQaTwP9RzG"
      },
      "source": [
        "## Splitting the dataset into the Training set and Test set"
      ]
    },
    {
      "cell_type": "markdown",
      "metadata": {
        "id": "ZijQwFMQ9itx"
      },
      "source": [
        "## Training the Simple Linear Regression model on the Training set"
      ]
    },
    {
      "cell_type": "markdown",
      "metadata": {
        "id": "wa2T1Lq89o5H"
      },
      "source": [
        "## Predicting the Test set results"
      ]
    },
    {
      "cell_type": "markdown",
      "metadata": {
        "id": "-zSoMZ-P9v8t"
      },
      "source": [
        "## Visualising the Training set results"
      ]
    },
    {
      "cell_type": "markdown",
      "metadata": {
        "id": "EUX1Vhsv97ZT"
      },
      "source": [
        "## Visualising the Test set results"
      ]
    }
  ]
}