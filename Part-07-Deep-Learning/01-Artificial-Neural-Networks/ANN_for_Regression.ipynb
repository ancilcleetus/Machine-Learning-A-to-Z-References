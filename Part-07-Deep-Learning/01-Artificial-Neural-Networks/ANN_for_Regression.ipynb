{
  "nbformat": 4,
  "nbformat_minor": 0,
  "metadata": {
    "colab": {
      "name": "ANN_for_Regression.ipynb",
      "provenance": [],
      "collapsed_sections": [],
      "toc_visible": true
    },
    "kernelspec": {
      "display_name": "Python 3",
      "name": "python3"
    }
  },
  "cells": [
    {
      "cell_type": "markdown",
      "metadata": {
        "id": "lP6JLo1tGNBg"
      },
      "source": [
        "# Artificial Neural Networks for Regression"
      ]
    },
    {
      "cell_type": "markdown",
      "metadata": {
        "id": "kOl9H2fNvvSN"
      },
      "source": [
        "## Problem Statement: Prediction of energy output from Combined Cycle Power Plant Dataset"
      ]
    },
    {
      "cell_type": "markdown",
      "metadata": {
        "id": "iI7OCBzl1l51"
      },
      "source": [
        "This is an open dataset from the Machine Learning Repository of Center for Machine Learning and Intelligent Systems at the University of California, Irvine [(Dataset Link)](https://archive.ics.uci.edu/ml/datasets/combined+cycle+power+plant). The dataset contains 9568 data points that have been collected from a Combined Cycle Power Plant over 6 years (2006-2011). During this period, the power plant was set to work with a full load. Features consist of hourly average ambient variables Ambient Temperature (AT), Ambient Pressure (AP), Relative Humidity (RH), and Exhaust Vacuum (V) to predict the net hourly electrical energy output (PE) of the plant.\r\n",
        "\r\n",
        "Features consist of hourly average ambient variables\r\n",
        "- Ambient Temperature (AT) in the range 1.81°C to 37.11°C\r\n",
        "- Exhaust Vacuum (V) in the range 25.36-81.56 cm Hg\r\n",
        "- Ambient Pressure (AP) in the range 992.89-1033.30 millibar\r\n",
        "- Relative Humidity (RH) in the range 25.56% to 100.16%\r\n",
        "- Net hourly electrical energy output (PE) 420.26-495.76 MW\r\n",
        "\r\n",
        "The averages are taken from various sensors located around the plant that record the ambient variables every second. The variables are given without normalization.\r\n",
        "\r\n",
        "Given the attributes, our objective is to predict Net hourly electrical energy output (PE).\r\n",
        "\r\n",
        "![ANN for Regression](ANN-for-Regression-01.PNG)"
      ]
    },
    {
      "cell_type": "markdown",
      "metadata": {
        "id": "slQTaxtCvre9"
      },
      "source": [
        "**Important Note 1:** This dataset contains no missing data and no categorical data. Hence, those steps for Data Preprocessing (Taking care of missing data and Encoding categorical data) are not required before starting Training of the Model."
      ]
    },
    {
      "cell_type": "markdown",
      "metadata": {
        "id": "gWZyYmS_UE_L"
      },
      "source": [
        "### Importing the libraries"
      ]
    },
    {
      "cell_type": "code",
      "metadata": {
        "id": "d6JDNcFkBn8H"
      },
      "source": [
        "import numpy as np\r\n",
        "import pandas as pd\r\n",
        "import tensorflow as tf"
      ],
      "execution_count": 1,
      "outputs": []
    },
    {
      "cell_type": "code",
      "metadata": {
        "colab": {
          "base_uri": "https://localhost:8080/",
          "height": 35
        },
        "id": "nO3r0-mzBtJ3",
        "outputId": "49f47160-a352-428e-cc23-78f513ec4a0f"
      },
      "source": [
        "tf.__version__"
      ],
      "execution_count": 2,
      "outputs": [
        {
          "output_type": "execute_result",
          "data": {
            "application/vnd.google.colaboratory.intrinsic+json": {
              "type": "string"
            },
            "text/plain": [
              "'2.4.0'"
            ]
          },
          "metadata": {
            "tags": []
          },
          "execution_count": 2
        }
      ]
    },
    {
      "cell_type": "markdown",
      "metadata": {
        "id": "1E0Q3aoKUCRX"
      },
      "source": [
        "## Part 1 - Data Preprocessing"
      ]
    },
    {
      "cell_type": "markdown",
      "metadata": {
        "id": "cKWAkFVGUU0Z"
      },
      "source": [
        "### Importing the dataset"
      ]
    },
    {
      "cell_type": "code",
      "metadata": {
        "id": "RefVYR2xCn0j"
      },
      "source": [
        "dataset = pd.read_csv('combined_cycle_power_plant.csv')\r\n",
        "X = dataset.iloc[:, :-1].values\r\n",
        "y = dataset.iloc[:, -1].values"
      ],
      "execution_count": 3,
      "outputs": []
    },
    {
      "cell_type": "code",
      "metadata": {
        "colab": {
          "base_uri": "https://localhost:8080/"
        },
        "id": "wJjYh7nXJYP4",
        "outputId": "0b2fde28-7875-44c9-f74a-e3cb68bbf010"
      },
      "source": [
        "print(X)"
      ],
      "execution_count": 4,
      "outputs": [
        {
          "output_type": "stream",
          "text": [
            "[[  14.96   41.76 1024.07   73.17]\n",
            " [  25.18   62.96 1020.04   59.08]\n",
            " [   5.11   39.4  1012.16   92.14]\n",
            " ...\n",
            " [  31.32   74.33 1012.92   36.48]\n",
            " [  24.48   69.45 1013.86   62.39]\n",
            " [  21.6    62.52 1017.23   67.87]]\n"
          ],
          "name": "stdout"
        }
      ]
    },
    {
      "cell_type": "code",
      "metadata": {
        "colab": {
          "base_uri": "https://localhost:8080/"
        },
        "id": "0U6Fs1VGJZhv",
        "outputId": "c73d71f0-648a-4c7d-af34-0a516fd0f43f"
      },
      "source": [
        "print(y)"
      ],
      "execution_count": 5,
      "outputs": [
        {
          "output_type": "stream",
          "text": [
            "[463.26 444.37 488.56 ... 429.57 435.74 453.28]\n"
          ],
          "name": "stdout"
        }
      ]
    },
    {
      "cell_type": "markdown",
      "metadata": {
        "id": "nhfKXNxlSabC"
      },
      "source": [
        "### Taking care of missing data"
      ]
    },
    {
      "cell_type": "markdown",
      "metadata": {
        "id": "UYD_wROl0kU_"
      },
      "source": [
        "Here we have no missing data in the dataset."
      ]
    },
    {
      "cell_type": "markdown",
      "metadata": {
        "id": "1DRlmPQ3taTJ"
      },
      "source": [
        "**Important Note:** If missing data acounts for less than 1% of dataset, we can discard them. But in all other cases, we have to replace missing data. Missing data can be replaced with either mean, median, most frequent data or with a constant using `SimpleImputer` from `sklearn.impute`. Other solutions include `IterativeImputer`, `KNNImputer` and `MissingIndicator`.\r\n",
        "\r\n"
      ]
    },
    {
      "cell_type": "markdown",
      "metadata": {
        "id": "N6bQ0UgSU-NJ"
      },
      "source": [
        "### Encoding categorical data"
      ]
    },
    {
      "cell_type": "markdown",
      "metadata": {
        "id": "b25WpFX0fUho"
      },
      "source": [
        "If any of the columns have categorical data, you should apply Encoding to convert them into numerical data. Encoding should be\r\n",
        "\r\n",
        "*   One Hot Encoding if you know there is no ordered relationship in your categorical variable (eg: Country, State etc.)\r\n",
        "*   Label Encoding if there is an ordered relationship (eg: Position Levels in a company, Purchase Decisions etc.)\r\n",
        "\r\n"
      ]
    },
    {
      "cell_type": "markdown",
      "metadata": {
        "id": "EYSpRhXH9w02"
      },
      "source": [
        "Here we have no categorical data in the dataset and hence encoding is not required."
      ]
    },
    {
      "cell_type": "markdown",
      "metadata": {
        "id": "vHol938cW8zd"
      },
      "source": [
        "### Splitting the dataset into the Training set and Test set"
      ]
    },
    {
      "cell_type": "code",
      "metadata": {
        "id": "MtqGc6cQJ1Kc"
      },
      "source": [
        "from sklearn.model_selection import train_test_split\r\n",
        "X_train, X_test, y_train, y_test = train_test_split(X, y, test_size=0.2, random_state=0)"
      ],
      "execution_count": 6,
      "outputs": []
    },
    {
      "cell_type": "markdown",
      "metadata": {
        "id": "RE_FcHyfV3TQ"
      },
      "source": [
        "### Feature Scaling"
      ]
    },
    {
      "cell_type": "markdown",
      "metadata": {
        "id": "VVAbtaz4iM25"
      },
      "source": [
        "Feature Scaling is compulsory for Deep Learning. It is so fundamental that we have to do Feature Scaling even for the columns that already have values in the target range aimed by Feature Scaling."
      ]
    },
    {
      "cell_type": "markdown",
      "metadata": {
        "id": "-zfEzkRVXIwF"
      },
      "source": [
        "## Part 2 - Building the ANN"
      ]
    },
    {
      "cell_type": "markdown",
      "metadata": {
        "id": "KvdeScabXtlB"
      },
      "source": [
        "### Initializing the ANN"
      ]
    },
    {
      "cell_type": "markdown",
      "metadata": {
        "id": "TtSeLZS2NAaf"
      },
      "source": [
        "ANNs can be of 2 types\r\n",
        "\r\n",
        "*   A Sequence of Layers\r\n",
        "*   A Computational Graph\r\n",
        "\r\n",
        "Our ANN is a Sequence of Layers as depicted in the figure.\r\n",
        "\r\n"
      ]
    },
    {
      "cell_type": "code",
      "metadata": {
        "id": "38AMPpw-MrXp"
      },
      "source": [
        "ann = tf.keras.models.Sequential()"
      ],
      "execution_count": 7,
      "outputs": []
    },
    {
      "cell_type": "markdown",
      "metadata": {
        "id": "rP6urV6SX7kS"
      },
      "source": [
        "### Adding the input layer and the first hidden layer"
      ]
    },
    {
      "cell_type": "markdown",
      "metadata": {
        "id": "cRA1RWXwW33m"
      },
      "source": [
        "We don't need to specify the Input Layer explicitly since that will be automatically taken cared by Tensorflow. Since we have dense connections between Input Layer and first Hidden Layer (fully connected), we add `Dense` layer to our `ann` with Rectifier Activation Function."
      ]
    },
    {
      "cell_type": "code",
      "metadata": {
        "id": "OzjYzbh9WIlM"
      },
      "source": [
        "ann.add(tf.keras.layers.Dense(units=6, activation='relu'))"
      ],
      "execution_count": 8,
      "outputs": []
    },
    {
      "cell_type": "markdown",
      "metadata": {
        "id": "BELWAc_8YJze"
      },
      "source": [
        "### Adding the second hidden layer"
      ]
    },
    {
      "cell_type": "code",
      "metadata": {
        "id": "h4YmEuHZZTGJ"
      },
      "source": [
        "ann.add(tf.keras.layers.Dense(units=6, activation='relu'))"
      ],
      "execution_count": 9,
      "outputs": []
    },
    {
      "cell_type": "markdown",
      "metadata": {
        "id": "OyNEe6RXYcU4"
      },
      "source": [
        "### Adding the output layer"
      ]
    },
    {
      "cell_type": "markdown",
      "metadata": {
        "id": "pRprjSvtcQjN"
      },
      "source": [
        "Binary Classification => `activation='sigmoid'`\r\n",
        "\r\n",
        "Non-binary Classification => `activation='softmax'`\r\n",
        "\r\n",
        "Regression => `activation=None` (Default argument)"
      ]
    },
    {
      "cell_type": "code",
      "metadata": {
        "id": "S7UFAfcoaRZz"
      },
      "source": [
        "ann.add(tf.keras.layers.Dense(units=1))"
      ],
      "execution_count": 10,
      "outputs": []
    },
    {
      "cell_type": "markdown",
      "metadata": {
        "id": "JT4u2S1_Y4WG"
      },
      "source": [
        "## Part 3 - Training the ANN"
      ]
    },
    {
      "cell_type": "markdown",
      "metadata": {
        "id": "8GWlJChhY_ZI"
      },
      "source": [
        "### Compiling the ANN"
      ]
    },
    {
      "cell_type": "markdown",
      "metadata": {
        "id": "E0SiuYJIkZkT"
      },
      "source": [
        "Updation of weights is done using Stochastic Gradient Descent method during Back Propagation. This is performed by `optimizer` tool. Here we use `'adam'` optimizer (highly recommended for Stochastic Gradient Descent).\r\n",
        "\r\n",
        "For Regression, we use `'mean_squared_error'` as loss function."
      ]
    },
    {
      "cell_type": "code",
      "metadata": {
        "id": "1twfFuDpm6QK"
      },
      "source": [
        "ann.compile(optimizer='adam', loss='mean_squared_error')"
      ],
      "execution_count": 11,
      "outputs": []
    },
    {
      "cell_type": "markdown",
      "metadata": {
        "id": "0QR_G5u7ZLSM"
      },
      "source": [
        "### Training the ANN on the Training set"
      ]
    },
    {
      "cell_type": "code",
      "metadata": {
        "colab": {
          "base_uri": "https://localhost:8080/"
        },
        "id": "QUKUM0cFqIyU",
        "outputId": "42242fd4-d625-4065-852c-a2953227b5e8"
      },
      "source": [
        "ann.fit(X_train, y_train, batch_size=32, epochs=100)"
      ],
      "execution_count": 12,
      "outputs": [
        {
          "output_type": "stream",
          "text": [
            "Epoch 1/100\n",
            "240/240 [==============================] - 1s 785us/step - loss: 55765.2410\n",
            "Epoch 2/100\n",
            "240/240 [==============================] - 0s 810us/step - loss: 409.6603\n",
            "Epoch 3/100\n",
            "240/240 [==============================] - 0s 785us/step - loss: 361.7311\n",
            "Epoch 4/100\n",
            "240/240 [==============================] - 0s 833us/step - loss: 313.1711\n",
            "Epoch 5/100\n",
            "240/240 [==============================] - 0s 828us/step - loss: 254.2927\n",
            "Epoch 6/100\n",
            "240/240 [==============================] - 0s 750us/step - loss: 210.8140\n",
            "Epoch 7/100\n",
            "240/240 [==============================] - 0s 795us/step - loss: 164.4499\n",
            "Epoch 8/100\n",
            "240/240 [==============================] - 0s 766us/step - loss: 120.6553\n",
            "Epoch 9/100\n",
            "240/240 [==============================] - 0s 732us/step - loss: 90.6361\n",
            "Epoch 10/100\n",
            "240/240 [==============================] - 0s 731us/step - loss: 65.4843\n",
            "Epoch 11/100\n",
            "240/240 [==============================] - 0s 751us/step - loss: 53.8461\n",
            "Epoch 12/100\n",
            "240/240 [==============================] - 0s 824us/step - loss: 43.8620\n",
            "Epoch 13/100\n",
            "240/240 [==============================] - 0s 803us/step - loss: 37.3832\n",
            "Epoch 14/100\n",
            "240/240 [==============================] - 0s 745us/step - loss: 33.7491\n",
            "Epoch 15/100\n",
            "240/240 [==============================] - 0s 839us/step - loss: 31.5764\n",
            "Epoch 16/100\n",
            "240/240 [==============================] - 0s 777us/step - loss: 30.6008\n",
            "Epoch 17/100\n",
            "240/240 [==============================] - 0s 761us/step - loss: 28.0443\n",
            "Epoch 18/100\n",
            "240/240 [==============================] - 0s 872us/step - loss: 27.9130\n",
            "Epoch 19/100\n",
            "240/240 [==============================] - 0s 773us/step - loss: 27.4104\n",
            "Epoch 20/100\n",
            "240/240 [==============================] - 0s 762us/step - loss: 26.7958\n",
            "Epoch 21/100\n",
            "240/240 [==============================] - 0s 751us/step - loss: 27.4778\n",
            "Epoch 22/100\n",
            "240/240 [==============================] - 0s 776us/step - loss: 27.5796\n",
            "Epoch 23/100\n",
            "240/240 [==============================] - 0s 804us/step - loss: 26.6602\n",
            "Epoch 24/100\n",
            "240/240 [==============================] - 0s 727us/step - loss: 27.7206\n",
            "Epoch 25/100\n",
            "240/240 [==============================] - 0s 762us/step - loss: 28.0304\n",
            "Epoch 26/100\n",
            "240/240 [==============================] - 0s 778us/step - loss: 27.2601\n",
            "Epoch 27/100\n",
            "240/240 [==============================] - 0s 723us/step - loss: 26.9647\n",
            "Epoch 28/100\n",
            "240/240 [==============================] - 0s 784us/step - loss: 28.9150\n",
            "Epoch 29/100\n",
            "240/240 [==============================] - 0s 758us/step - loss: 27.3169\n",
            "Epoch 30/100\n",
            "240/240 [==============================] - 0s 799us/step - loss: 27.1498\n",
            "Epoch 31/100\n",
            "240/240 [==============================] - 0s 751us/step - loss: 26.6751\n",
            "Epoch 32/100\n",
            "240/240 [==============================] - 0s 728us/step - loss: 27.3441\n",
            "Epoch 33/100\n",
            "240/240 [==============================] - 0s 845us/step - loss: 27.5165\n",
            "Epoch 34/100\n",
            "240/240 [==============================] - 0s 789us/step - loss: 27.0877\n",
            "Epoch 35/100\n",
            "240/240 [==============================] - 0s 735us/step - loss: 27.5026\n",
            "Epoch 36/100\n",
            "240/240 [==============================] - 0s 779us/step - loss: 29.7331\n",
            "Epoch 37/100\n",
            "240/240 [==============================] - 0s 869us/step - loss: 26.8752\n",
            "Epoch 38/100\n",
            "240/240 [==============================] - 0s 813us/step - loss: 27.7514\n",
            "Epoch 39/100\n",
            "240/240 [==============================] - 0s 842us/step - loss: 28.0090\n",
            "Epoch 40/100\n",
            "240/240 [==============================] - 0s 819us/step - loss: 27.6429\n",
            "Epoch 41/100\n",
            "240/240 [==============================] - 0s 826us/step - loss: 28.9708\n",
            "Epoch 42/100\n",
            "240/240 [==============================] - 0s 799us/step - loss: 27.9994\n",
            "Epoch 43/100\n",
            "240/240 [==============================] - 0s 768us/step - loss: 27.7519\n",
            "Epoch 44/100\n",
            "240/240 [==============================] - 0s 808us/step - loss: 26.5330\n",
            "Epoch 45/100\n",
            "240/240 [==============================] - 0s 789us/step - loss: 28.0866\n",
            "Epoch 46/100\n",
            "240/240 [==============================] - 0s 762us/step - loss: 27.5492\n",
            "Epoch 47/100\n",
            "240/240 [==============================] - 0s 838us/step - loss: 26.4107\n",
            "Epoch 48/100\n",
            "240/240 [==============================] - 0s 774us/step - loss: 27.7683\n",
            "Epoch 49/100\n",
            "240/240 [==============================] - 0s 824us/step - loss: 27.5594\n",
            "Epoch 50/100\n",
            "240/240 [==============================] - 0s 740us/step - loss: 27.7331\n",
            "Epoch 51/100\n",
            "240/240 [==============================] - 0s 771us/step - loss: 26.6377\n",
            "Epoch 52/100\n",
            "240/240 [==============================] - 0s 730us/step - loss: 27.7766\n",
            "Epoch 53/100\n",
            "240/240 [==============================] - 0s 768us/step - loss: 29.1549\n",
            "Epoch 54/100\n",
            "240/240 [==============================] - 0s 779us/step - loss: 27.2692\n",
            "Epoch 55/100\n",
            "240/240 [==============================] - 0s 880us/step - loss: 26.4983\n",
            "Epoch 56/100\n",
            "240/240 [==============================] - 0s 769us/step - loss: 27.5227\n",
            "Epoch 57/100\n",
            "240/240 [==============================] - 0s 736us/step - loss: 26.1803\n",
            "Epoch 58/100\n",
            "240/240 [==============================] - 0s 870us/step - loss: 28.2581\n",
            "Epoch 59/100\n",
            "240/240 [==============================] - 0s 766us/step - loss: 27.2880\n",
            "Epoch 60/100\n",
            "240/240 [==============================] - 0s 773us/step - loss: 26.6640\n",
            "Epoch 61/100\n",
            "240/240 [==============================] - 0s 807us/step - loss: 27.0239\n",
            "Epoch 62/100\n",
            "240/240 [==============================] - 0s 738us/step - loss: 26.8521\n",
            "Epoch 63/100\n",
            "240/240 [==============================] - 0s 758us/step - loss: 28.4777\n",
            "Epoch 64/100\n",
            "240/240 [==============================] - 0s 745us/step - loss: 27.6254\n",
            "Epoch 65/100\n",
            "240/240 [==============================] - 0s 778us/step - loss: 28.8722\n",
            "Epoch 66/100\n",
            "240/240 [==============================] - 0s 741us/step - loss: 28.0815\n",
            "Epoch 67/100\n",
            "240/240 [==============================] - 0s 739us/step - loss: 28.6406\n",
            "Epoch 68/100\n",
            "240/240 [==============================] - 0s 777us/step - loss: 26.6708\n",
            "Epoch 69/100\n",
            "240/240 [==============================] - 0s 896us/step - loss: 27.1061\n",
            "Epoch 70/100\n",
            "240/240 [==============================] - 0s 794us/step - loss: 29.2793\n",
            "Epoch 71/100\n",
            "240/240 [==============================] - 0s 832us/step - loss: 27.0119\n",
            "Epoch 72/100\n",
            "240/240 [==============================] - 0s 801us/step - loss: 29.1298\n",
            "Epoch 73/100\n",
            "240/240 [==============================] - 0s 809us/step - loss: 27.0026\n",
            "Epoch 74/100\n",
            "240/240 [==============================] - 0s 801us/step - loss: 29.2751\n",
            "Epoch 75/100\n",
            "240/240 [==============================] - 0s 819us/step - loss: 28.6071\n",
            "Epoch 76/100\n",
            "240/240 [==============================] - 0s 795us/step - loss: 28.1620\n",
            "Epoch 77/100\n",
            "240/240 [==============================] - 0s 759us/step - loss: 26.9047\n",
            "Epoch 78/100\n",
            "240/240 [==============================] - 0s 740us/step - loss: 28.0901\n",
            "Epoch 79/100\n",
            "240/240 [==============================] - 0s 742us/step - loss: 26.9491\n",
            "Epoch 80/100\n",
            "240/240 [==============================] - 0s 849us/step - loss: 26.8248\n",
            "Epoch 81/100\n",
            "240/240 [==============================] - 0s 836us/step - loss: 27.6848\n",
            "Epoch 82/100\n",
            "240/240 [==============================] - 0s 755us/step - loss: 28.1774\n",
            "Epoch 83/100\n",
            "240/240 [==============================] - 0s 721us/step - loss: 28.0129\n",
            "Epoch 84/100\n",
            "240/240 [==============================] - 0s 724us/step - loss: 29.4832\n",
            "Epoch 85/100\n",
            "240/240 [==============================] - 0s 795us/step - loss: 25.8883\n",
            "Epoch 86/100\n",
            "240/240 [==============================] - 0s 758us/step - loss: 27.9720\n",
            "Epoch 87/100\n",
            "240/240 [==============================] - 0s 748us/step - loss: 27.8909\n",
            "Epoch 88/100\n",
            "240/240 [==============================] - 0s 774us/step - loss: 27.8366\n",
            "Epoch 89/100\n",
            "240/240 [==============================] - 0s 815us/step - loss: 27.3009\n",
            "Epoch 90/100\n",
            "240/240 [==============================] - 0s 803us/step - loss: 26.8897\n",
            "Epoch 91/100\n",
            "240/240 [==============================] - 0s 804us/step - loss: 26.5141\n",
            "Epoch 92/100\n",
            "240/240 [==============================] - 0s 803us/step - loss: 27.5257\n",
            "Epoch 93/100\n",
            "240/240 [==============================] - 0s 748us/step - loss: 27.6169\n",
            "Epoch 94/100\n",
            "240/240 [==============================] - 0s 743us/step - loss: 27.0897\n",
            "Epoch 95/100\n",
            "240/240 [==============================] - 0s 743us/step - loss: 29.5289\n",
            "Epoch 96/100\n",
            "240/240 [==============================] - 0s 770us/step - loss: 27.2798\n",
            "Epoch 97/100\n",
            "240/240 [==============================] - 0s 779us/step - loss: 27.6933\n",
            "Epoch 98/100\n",
            "240/240 [==============================] - 0s 750us/step - loss: 26.1671\n",
            "Epoch 99/100\n",
            "240/240 [==============================] - 0s 778us/step - loss: 29.0861\n",
            "Epoch 100/100\n",
            "240/240 [==============================] - 0s 743us/step - loss: 26.7787\n"
          ],
          "name": "stdout"
        },
        {
          "output_type": "execute_result",
          "data": {
            "text/plain": [
              "<tensorflow.python.keras.callbacks.History at 0x7f854642c630>"
            ]
          },
          "metadata": {
            "tags": []
          },
          "execution_count": 12
        }
      ]
    },
    {
      "cell_type": "markdown",
      "metadata": {
        "id": "tJj5k2MxZga3"
      },
      "source": [
        "## Part 4 - Making the predictions and evaluating the model"
      ]
    },
    {
      "cell_type": "markdown",
      "metadata": {
        "id": "u7yx47jPZt11"
      },
      "source": [
        "### Predicting the Test set results"
      ]
    },
    {
      "cell_type": "code",
      "metadata": {
        "colab": {
          "base_uri": "https://localhost:8080/"
        },
        "id": "5WwNQaR9s9pr",
        "outputId": "9693d2c5-9fa0-488e-d08a-30e7f48a79f2"
      },
      "source": [
        "y_pred = ann.predict(X_test)\r\n",
        "np.set_printoptions(precision=2)\r\n",
        "print(np.concatenate((y_pred.reshape(len(y_pred),1), y_test.reshape(len(y_test),1)), 1))"
      ],
      "execution_count": 13,
      "outputs": [
        {
          "output_type": "stream",
          "text": [
            "[[433.46 431.23]\n",
            " [464.8  460.01]\n",
            " [468.38 461.14]\n",
            " ...\n",
            " [475.62 473.26]\n",
            " [442.13 438.  ]\n",
            " [461.52 463.28]]\n"
          ],
          "name": "stdout"
        }
      ]
    }
  ]
}